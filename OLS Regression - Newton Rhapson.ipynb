{
 "cells": [
  {
   "cell_type": "markdown",
   "metadata": {},
   "source": [
    "# Ordinary Least Squares (OLS) Regression - Newton Rhapson\n",
    "#### by Andrew Rothman"
   ]
  },
  {
   "cell_type": "markdown",
   "metadata": {},
   "source": [
    "Here we will explore Ordinary Least Squares (OLS) Regression in closed from where we will: <br>\n",
    "* Specify the statistical model and it's functional form\n",
    "* Using the Iris dataset as a motivating example, we will recover estimates of the parameters of the model we specified"
   ]
  },
  {
   "cell_type": "markdown",
   "metadata": {},
   "source": [
    "## 1) Model Specification\n",
    "### Variables & Dimensions\n",
    "Let us begin by specifying our variable relations and matrix dimensions:\n",
    "\n",
    "$$\n",
    "\\begin{align}\n",
    "Y = X \\beta + \\epsilon \\\\\n",
    "Y = X \\hat{\\beta} + e \\\\\n",
    "\\hat{Y} = X\\hat{\\beta} \\\\\n",
    "\\end{align}\n",
    "$$\n",
    "\n",
    "$\\begin{aligned}\n",
    "n=\n",
    "\\end{aligned}$ number of observations\n",
    "\n",
    "$\\begin{aligned}\n",
    "p=\n",
    "\\end{aligned}$ number of parameters\n",
    "\n",
    "Note, that in this formulation we are imbedding the intercept term into the Design and Parameter matrices\n",
    "\n",
    "$$\n",
    "\\begin{align}\n",
    "Y : n\\times 1 \\\\\n",
    "X : n\\times (p+1) \\\\\n",
    "\\beta : (p+1)\\times 1 \\\\\n",
    "\\epsilon, e : n\\times 1\n",
    "\\end{align}\n",
    "$$\n",
    "\n",
    "### Cost Function (Residual Sum of Squares)\n",
    "\n",
    "$$\n",
    "\\begin{align}\n",
    "RSS = e^{T}e^{} \\\\\n",
    "= (Y - X \\hat{\\beta})^{T}(Y - X \\hat{\\beta}) \\\\\n",
    "= (Y^{T} - \\hat{\\beta}^{T}X^{T})(Y - X \\hat{\\beta}) \\\\\n",
    "= Y^{T}Y -Y^{T}X\\hat{\\beta} - \\hat{\\beta}^{T}X^{T}Y + \\hat{\\beta}^{T}X^{T}X\\hat{\\beta} \\\\\n",
    "= Y^{T}Y - 2\\hat{\\beta}^{T}X^{T}Y + \\hat{\\beta}^{T}X^{T}X\\hat{\\beta} \\\\\n",
    "\\end{align}\n",
    "$$\n",
    "\n",
    "### First and Second Partial Derivatives (with respect to Beta)\n",
    "\n",
    "$$\n",
    "\\begin{align}\n",
    "\\frac{\\partial RSS}{\\partial \\hat{\\beta}} = -2X^{T}Y + 2X^{T}X \\hat{\\beta} \\\\\n",
    "\\frac{\\partial^{2} RSS}{\\partial^{2} \\hat{\\beta}} = 2X^{T}X \\\\\n",
    "\\end{align}\n",
    "$$\n",
    "\n",
    "### Newton Rhapson Algorithm\n",
    "\n",
    "$$\n",
    "\\begin{align}\n",
    "\\frac{\\partial RSS}{\\partial \\hat{\\beta}} = -2X^{T}Y + 2X^{T}X \\hat{\\beta} &\\stackrel{set}{=} 0 \\\\\n",
    "\\frac{\\partial^{2} RSS}{\\partial^{2} \\hat{\\beta}} = 2X^{T}X \\\\\n",
    "\\\\\n",
    "\\hat{\\beta}_{i+1} = \\hat{\\beta}_i - \\frac{\\frac{\\partial RSS}{\\partial \\hat{\\beta}_i}}{\\frac{\\partial^{2} RSS}{\\partial^{2} \\hat{\\beta}_i}} = \\hat{\\beta}_i - (\\frac{\\partial^{2} RSS}{\\partial^{2} \\hat{\\beta}_i})^{-1}\\frac{\\partial RSS}{\\partial \\hat{\\beta}_i}  \\\\\n",
    "\\end{align}\n",
    "$$"
   ]
  },
  {
   "cell_type": "markdown",
   "metadata": {},
   "source": [
    "## 2) Motivating Example with the \"Iris\" Dataset\n",
    "We will show the above closed form solution in action with a motivating example. We will use the Iris Dataset to do so by:\n",
    "* Using \"Sepal Length\" as our outcome of interest, with all remaining variables as covariates in the regression model\n",
    " * Note, the variable \"Species\" is reparameterized as \"one-hot\" coding, with the category \"virginica\" set as the reference category"
   ]
  },
  {
   "cell_type": "code",
   "execution_count": 13,
   "metadata": {},
   "outputs": [],
   "source": [
    "######################\n",
    "## import libraries ##\n",
    "######################\n",
    "import numpy as np\n",
    "import pandas as pd\n",
    "from sklearn import datasets\n",
    "import statsmodels.formula.api as sm\n",
    "from numpy.linalg import inv\n",
    "import matplotlib.pyplot as plt "
   ]
  },
  {
   "cell_type": "code",
   "execution_count": 14,
   "metadata": {},
   "outputs": [
    {
     "data": {
      "text/html": [
       "<div>\n",
       "<style scoped>\n",
       "    .dataframe tbody tr th:only-of-type {\n",
       "        vertical-align: middle;\n",
       "    }\n",
       "\n",
       "    .dataframe tbody tr th {\n",
       "        vertical-align: top;\n",
       "    }\n",
       "\n",
       "    .dataframe thead th {\n",
       "        text-align: right;\n",
       "    }\n",
       "</style>\n",
       "<table border=\"1\" class=\"dataframe\">\n",
       "  <thead>\n",
       "    <tr style=\"text-align: right;\">\n",
       "      <th></th>\n",
       "      <th>S_Length</th>\n",
       "      <th>Intercept</th>\n",
       "      <th>S_Width</th>\n",
       "      <th>P_Length</th>\n",
       "      <th>P_Width</th>\n",
       "      <th>Species_setosa</th>\n",
       "      <th>Species_versicolor</th>\n",
       "    </tr>\n",
       "  </thead>\n",
       "  <tbody>\n",
       "    <tr>\n",
       "      <th>count</th>\n",
       "      <td>150.000000</td>\n",
       "      <td>150.0</td>\n",
       "      <td>150.000000</td>\n",
       "      <td>150.000000</td>\n",
       "      <td>150.000000</td>\n",
       "      <td>150.000000</td>\n",
       "      <td>150.000000</td>\n",
       "    </tr>\n",
       "    <tr>\n",
       "      <th>mean</th>\n",
       "      <td>5.843333</td>\n",
       "      <td>1.0</td>\n",
       "      <td>3.054000</td>\n",
       "      <td>3.758667</td>\n",
       "      <td>1.198667</td>\n",
       "      <td>0.333333</td>\n",
       "      <td>0.333333</td>\n",
       "    </tr>\n",
       "    <tr>\n",
       "      <th>std</th>\n",
       "      <td>0.828066</td>\n",
       "      <td>0.0</td>\n",
       "      <td>0.433594</td>\n",
       "      <td>1.764420</td>\n",
       "      <td>0.763161</td>\n",
       "      <td>0.472984</td>\n",
       "      <td>0.472984</td>\n",
       "    </tr>\n",
       "    <tr>\n",
       "      <th>min</th>\n",
       "      <td>4.300000</td>\n",
       "      <td>1.0</td>\n",
       "      <td>2.000000</td>\n",
       "      <td>1.000000</td>\n",
       "      <td>0.100000</td>\n",
       "      <td>0.000000</td>\n",
       "      <td>0.000000</td>\n",
       "    </tr>\n",
       "    <tr>\n",
       "      <th>25%</th>\n",
       "      <td>5.100000</td>\n",
       "      <td>1.0</td>\n",
       "      <td>2.800000</td>\n",
       "      <td>1.600000</td>\n",
       "      <td>0.300000</td>\n",
       "      <td>0.000000</td>\n",
       "      <td>0.000000</td>\n",
       "    </tr>\n",
       "    <tr>\n",
       "      <th>50%</th>\n",
       "      <td>5.800000</td>\n",
       "      <td>1.0</td>\n",
       "      <td>3.000000</td>\n",
       "      <td>4.350000</td>\n",
       "      <td>1.300000</td>\n",
       "      <td>0.000000</td>\n",
       "      <td>0.000000</td>\n",
       "    </tr>\n",
       "    <tr>\n",
       "      <th>75%</th>\n",
       "      <td>6.400000</td>\n",
       "      <td>1.0</td>\n",
       "      <td>3.300000</td>\n",
       "      <td>5.100000</td>\n",
       "      <td>1.800000</td>\n",
       "      <td>1.000000</td>\n",
       "      <td>1.000000</td>\n",
       "    </tr>\n",
       "    <tr>\n",
       "      <th>max</th>\n",
       "      <td>7.900000</td>\n",
       "      <td>1.0</td>\n",
       "      <td>4.400000</td>\n",
       "      <td>6.900000</td>\n",
       "      <td>2.500000</td>\n",
       "      <td>1.000000</td>\n",
       "      <td>1.000000</td>\n",
       "    </tr>\n",
       "  </tbody>\n",
       "</table>\n",
       "</div>"
      ],
      "text/plain": [
       "         S_Length  Intercept     S_Width    P_Length     P_Width  \\\n",
       "count  150.000000      150.0  150.000000  150.000000  150.000000   \n",
       "mean     5.843333        1.0    3.054000    3.758667    1.198667   \n",
       "std      0.828066        0.0    0.433594    1.764420    0.763161   \n",
       "min      4.300000        1.0    2.000000    1.000000    0.100000   \n",
       "25%      5.100000        1.0    2.800000    1.600000    0.300000   \n",
       "50%      5.800000        1.0    3.000000    4.350000    1.300000   \n",
       "75%      6.400000        1.0    3.300000    5.100000    1.800000   \n",
       "max      7.900000        1.0    4.400000    6.900000    2.500000   \n",
       "\n",
       "       Species_setosa  Species_versicolor  \n",
       "count      150.000000          150.000000  \n",
       "mean         0.333333            0.333333  \n",
       "std          0.472984            0.472984  \n",
       "min          0.000000            0.000000  \n",
       "25%          0.000000            0.000000  \n",
       "50%          0.000000            0.000000  \n",
       "75%          1.000000            1.000000  \n",
       "max          1.000000            1.000000  "
      ]
     },
     "execution_count": 14,
     "metadata": {},
     "output_type": "execute_result"
    }
   ],
   "source": [
    "###################################\n",
    "## import and clean iris dataset ##\n",
    "###################################\n",
    "iris = datasets.load_iris()\n",
    "df = pd.DataFrame()\n",
    "df['S_Length'] = iris['data'][:,0]\n",
    "df['Intercept']=np.full(iris['data'].shape[0], 1)\n",
    "df['S_Width'] = iris['data'][:,1]\n",
    "df['P_Length'] = iris['data'][:,2]\n",
    "df['P_Width'] = iris['data'][:,3]\n",
    "df['Species'] = iris['target']\n",
    "df['Species'] = df['Species'].apply(str)\n",
    "df.loc[df['Species']==str(0), \"Species\"] = str(iris['target_names'][0])\n",
    "df.loc[df['Species']==str(1), \"Species\"] = str(iris['target_names'][1])\n",
    "df.loc[df['Species']==str(2), \"Species\"] = str(iris['target_names'][2])\n",
    "df['Species_setosa']=0\n",
    "df.loc[df['Species']=='setosa', 'Species_setosa']=1\n",
    "df['Species_versicolor']=0\n",
    "df.loc[df['Species']=='versicolor', 'Species_versicolor']=1\n",
    "df = df.drop('Species', axis=1)\n",
    "df.describe()"
   ]
  },
  {
   "cell_type": "code",
   "execution_count": 15,
   "metadata": {},
   "outputs": [],
   "source": [
    "## creat arrays for closed form solution\n",
    "Y = np.array(df['S_Length']).reshape((len(df['S_Length']), 1))\n",
    "X = np.array(df[['Intercept', 'S_Width', 'P_Length', 'P_Width', 'Species_setosa', 'Species_versicolor']])"
   ]
  },
  {
   "cell_type": "markdown",
   "metadata": {},
   "source": [
    "## 3) Compute Solution"
   ]
  },
  {
   "cell_type": "code",
   "execution_count": 16,
   "metadata": {},
   "outputs": [],
   "source": [
    "#################################\n",
    "## initialize parameter matrix ##\n",
    "#################################\n",
    "k = X.shape[1]\n",
    "np.random.seed(10815657)\n",
    "nudge=0.01\n",
    "Beta = np.random.uniform(low=-1*nudge, high=1*nudge, size=k).reshape(k, 1)"
   ]
  },
  {
   "cell_type": "code",
   "execution_count": 17,
   "metadata": {},
   "outputs": [],
   "source": [
    "####################\n",
    "## Newton Rhapson ##\n",
    "####################\n",
    "m = 5\n",
    "J = pd.DataFrame()\n",
    "J['iterative_step'] = range(0,m+1)\n",
    "J['cost'] = np.full(m+1, None)\n",
    "J.loc[0, 'cost'] = np.asscalar(np.dot((Y - np.dot(X, Beta)).T, (Y - np.dot(X, Beta))))\n",
    "\n",
    "inv_J2_partial_Beta2 = inv(2*np.dot(X.T, X))\n",
    "for i in range(1, m+1):    \n",
    "    J_partial_Beta = (-2*np.dot(X.T, Y)) + (2*np.dot(np.dot(X.T, X), Beta))\n",
    "    Beta = Beta - np.dot(inv_J2_partial_Beta2, J_partial_Beta)\n",
    "    J.loc[i, 'cost'] = np.asscalar(np.dot((Y - np.dot(X, Beta)).T, (Y - np.dot(X, Beta))))\n",
    "    del J_partial_Beta    "
   ]
  },
  {
   "cell_type": "code",
   "execution_count": 18,
   "metadata": {},
   "outputs": [
    {
     "data": {
      "text/plain": [
       "Text(0,0.5,'Cost')"
      ]
     },
     "execution_count": 18,
     "metadata": {},
     "output_type": "execute_result"
    },
    {
     "data": {
      "image/png": "[encoded data removed]",
      "text/plain": [
       "<Figure size 432x288 with 1 Axes>"
      ]
     },
     "metadata": {},
     "output_type": "display_data"
    }
   ],
   "source": [
    "plt.plot(J['iterative_step'], J['cost'])\n",
    "plt.title('Newton Rhapson') \n",
    "plt.xlabel('Iterative Step') \n",
    "plt.ylabel('Cost') "
   ]
  },
  {
   "cell_type": "code",
   "execution_count": 19,
   "metadata": {},
   "outputs": [
    {
     "name": "stdout",
     "output_type": "stream",
     "text": [
      "[[ 1.14896043]\n",
      " [ 0.50107481]\n",
      " [ 0.82878689]\n",
      " [-0.32210351]\n",
      " [ 1.00961511]\n",
      " [ 0.29553946]]\n"
     ]
    }
   ],
   "source": [
    "print(Beta)"
   ]
  },
  {
   "cell_type": "markdown",
   "metadata": {},
   "source": [
    "Let's compare this solution to that provided by the OLS model provided in the \"statsmodels\" package"
   ]
  },
  {
   "cell_type": "code",
   "execution_count": 20,
   "metadata": {},
   "outputs": [
    {
     "name": "stdout",
     "output_type": "stream",
     "text": [
      "Intercept             1.148960\n",
      "S_Width               0.501075\n",
      "P_Length              0.828787\n",
      "P_Width              -0.322104\n",
      "Species_setosa        1.009615\n",
      "Species_versicolor    0.295539\n",
      "dtype: float64\n"
     ]
    }
   ],
   "source": [
    "## built in package\n",
    "results = sm.ols(formula=\"S_Length ~ S_Width + P_Length + P_Width + Species_setosa + Species_versicolor\", data=df).fit()\n",
    "print(results.params)"
   ]
  }
 ],
 "metadata": {
  "kernelspec": {
   "display_name": "Python 3",
   "language": "python",
   "name": "python3"
  },
  "language_info": {
   "codemirror_mode": {
    "name": "ipython",
    "version": 3
   },
   "file_extension": ".py",
   "mimetype": "text/x-python",
   "name": "python",
   "nbconvert_exporter": "python",
   "pygments_lexer": "ipython3",
   "version": "3.5.5"
  }
 },
 "nbformat": 4,
 "nbformat_minor": 2
}
