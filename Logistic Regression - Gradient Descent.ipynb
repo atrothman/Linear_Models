{
 "cells": [
  {
   "cell_type": "markdown",
   "metadata": {},
   "source": [
    "# Logistic Regression - Gradient Descent\n",
    "#### by Andrew Rothman"
   ]
  },
  {
   "cell_type": "markdown",
   "metadata": {},
   "source": [
    "Here we will explore Logistic where we will: <br>\n",
    "* Specify the statistical model and it's functional form\n",
    "* Using the Iris dataset as a motivating example, we will recover estimates of the parameters of the model we specified using the iterative numerical algorithm Gradient Descent."
   ]
  },
  {
   "cell_type": "markdown",
   "metadata": {},
   "source": [
    "## 1) Model Specification\n",
    "### Variables & Dimensions\n",
    "Let us begin by specifying our variable relations and matrix dimensions:\n",
    "\n",
    "$\\begin{align}\n",
    "Y\n",
    "\\end{align}$ ~ n iid Bernouli RVs\n",
    "\n",
    "$$\n",
    "\\begin{align}\n",
    "\\hat{Y} = A = \\sigma(Z) = \\frac{1}{1+e^{-Z}} \\\\\n",
    "Z = X \\hat{\\beta} \\\\\n",
    "\\end{align}\n",
    "$$\n",
    "\n",
    "$\\begin{aligned}\n",
    "n=\n",
    "\\end{aligned}$ number of observations\n",
    "\n",
    "$\\begin{aligned}\n",
    "p=\n",
    "\\end{aligned}$ number of parameters\n",
    "\n",
    "Note, that in this formulation we are imbedding the intercept term into the Design and Parameter matrices\n",
    "\n",
    "$$\n",
    "\\begin{align}\n",
    "Y, A, Z : n\\times 1 \\\\\n",
    "X : n\\times (p+1) \\\\\n",
    "\\hat{\\beta} : (p+1)\\times 1 \\\\\n",
    "\\end{align}\n",
    "$$\n",
    "\n",
    "### Cost Function (Negative Log Likelihood)\n",
    "$$\n",
    "\\begin{align}\n",
    "\\mathcal{L}(A|Y) = \\prod_{i=1}^n A^Y (1-A)^{1-Y} \\\\\n",
    "-\\ln (\\mathcal{L}(A|Y)) = J = \\sum_{i=1}^n -\\ln (A^Y (1-A)^{1-Y}) \\\\\n",
    "J = \\sum_{i=1}^n -Y\\ln(A) - (1-Y)\\ln(1-A) \\\\\n",
    "\\end{align}\n",
    "$$\n",
    "\n",
    "in vectorized form, this reduces to:\n",
    "$$\n",
    "\\begin{align}\n",
    "J = -Y^{T}\\ln(A) - (1-Y)^{T}\\ln(1-A)\n",
    "\\end{align}\n",
    "$$\n",
    "\n",
    "Note that:\n",
    "$$\n",
    "\\begin{align}\n",
    "\\ln(A) = \\ln(\\frac{1}{1+e^{-Z}}) = \\ln(1) - \\ln(1+e^{-Z}) = - \\ln(1+e^{-Z}) \\\\\n",
    "\\frac{\\partial \\ln(A)}{\\partial Z} = -(\\frac{1}{1+e^{-Z}})(e^{-Z})(-1) = \\frac{e^{-Z}}{1+e^{-Z}} =  \\frac{1+ e^{-Z} -1}{1+e^{-Z}} =  1 -\\frac{1}{1+e^{-Z}} = (1-A)   \\\\\n",
    "\\frac{\\partial Z}{\\partial \\hat{\\beta}} = X \\\\\n",
    "\\frac{\\partial \\ln(A)}{\\partial \\hat{\\beta}} = X^{T}(1-A)\n",
    "\\end{align}\n",
    "$$\n",
    "\n",
    "And also note that:\n",
    "$$\n",
    "\\begin{align}\n",
    "\\ln(1-A) = \\ln(1 - \\frac{1}{1+e^{-Z}}) = \\ln(\\frac{e^{-Z}}{1+e^{-Z}}) = \\ln(e^{-Z}) - \\ln(1+e^{-Z}) = -Z - \\ln(1+e^{-Z}) \\\\\n",
    "\\frac{\\partial \\ln(1-A)}{\\partial Z} = -1 + (1-A) = -A \\\\\n",
    "\\frac{\\partial \\ln(1-A)}{\\partial \\hat{\\beta}} = -X^{T}A \\\\\n",
    "\\end{align}\n",
    "$$\n",
    "\n",
    "Therefore, we have in vectorized form:\n",
    "$$\n",
    "\\begin{align}\n",
    "J = -Y^{T}\\ln(A) - (1-Y)^{T}\\ln(1-A) \\\\\n",
    "\\frac{\\partial J}{\\partial \\hat{\\beta}} = X^{T}(A-Y) \\\\\n",
    "\\end{align}\n",
    "$$\n",
    "\n",
    "### Gradient Descent Algorithm\n",
    "\n",
    "$$\n",
    "\\begin{align}\n",
    "\\hat{\\beta}_{i+1} = \\hat{\\beta}_i - \\alpha*\\frac{\\partial J}{\\partial \\hat{\\beta}_i}\n",
    "\\end{align}\n",
    "$$\n",
    "\n"
   ]
  },
  {
   "cell_type": "markdown",
   "metadata": {},
   "source": [
    "## 2) Motivating Example with the \"Iris\" Dataset\n",
    "We will show the above closed form solution in action with a motivating example. We will use the Iris Dataset to do so by:\n",
    "* Using \"Sepal Length\" as our outcome of interest, with all remaining variables as covariates in the regression model\n",
    " * The variable \"Sepal Length\" has been reparameterized to a [0,1] variable with \"Sepal Length\">=5.8 set to \"1\"\n",
    " * Note, the variable \"Species\" is reparameterized as \"one-hot\" coding, with the category \"virginica\" set as the reference category"
   ]
  },
  {
   "cell_type": "code",
   "execution_count": 7,
   "metadata": {},
   "outputs": [],
   "source": [
    "######################\n",
    "## import libraries ##\n",
    "######################\n",
    "import numpy as np\n",
    "import pandas as pd\n",
    "from sklearn import datasets\n",
    "import statsmodels.formula.api as sm\n",
    "from statsmodels.genmod.families import Binomial\n",
    "from numpy.linalg import inv\n",
    "import matplotlib.pyplot as plt "
   ]
  },
  {
   "cell_type": "code",
   "execution_count": 8,
   "metadata": {},
   "outputs": [
    {
     "data": {
      "text/html": [
       "<div>\n",
       "<style scoped>\n",
       "    .dataframe tbody tr th:only-of-type {\n",
       "        vertical-align: middle;\n",
       "    }\n",
       "\n",
       "    .dataframe tbody tr th {\n",
       "        vertical-align: top;\n",
       "    }\n",
       "\n",
       "    .dataframe thead th {\n",
       "        text-align: right;\n",
       "    }\n",
       "</style>\n",
       "<table border=\"1\" class=\"dataframe\">\n",
       "  <thead>\n",
       "    <tr style=\"text-align: right;\">\n",
       "      <th></th>\n",
       "      <th>S_Length</th>\n",
       "      <th>Intercept</th>\n",
       "      <th>S_Width</th>\n",
       "      <th>P_Length</th>\n",
       "      <th>P_Width</th>\n",
       "      <th>Species_setosa</th>\n",
       "      <th>Species_versicolor</th>\n",
       "    </tr>\n",
       "  </thead>\n",
       "  <tbody>\n",
       "    <tr>\n",
       "      <th>count</th>\n",
       "      <td>150.000000</td>\n",
       "      <td>150.0</td>\n",
       "      <td>150.000000</td>\n",
       "      <td>150.000000</td>\n",
       "      <td>150.000000</td>\n",
       "      <td>150.000000</td>\n",
       "      <td>150.000000</td>\n",
       "    </tr>\n",
       "    <tr>\n",
       "      <th>mean</th>\n",
       "      <td>0.513333</td>\n",
       "      <td>1.0</td>\n",
       "      <td>3.054000</td>\n",
       "      <td>3.758667</td>\n",
       "      <td>1.198667</td>\n",
       "      <td>0.333333</td>\n",
       "      <td>0.333333</td>\n",
       "    </tr>\n",
       "    <tr>\n",
       "      <th>std</th>\n",
       "      <td>0.501497</td>\n",
       "      <td>0.0</td>\n",
       "      <td>0.433594</td>\n",
       "      <td>1.764420</td>\n",
       "      <td>0.763161</td>\n",
       "      <td>0.472984</td>\n",
       "      <td>0.472984</td>\n",
       "    </tr>\n",
       "    <tr>\n",
       "      <th>min</th>\n",
       "      <td>0.000000</td>\n",
       "      <td>1.0</td>\n",
       "      <td>2.000000</td>\n",
       "      <td>1.000000</td>\n",
       "      <td>0.100000</td>\n",
       "      <td>0.000000</td>\n",
       "      <td>0.000000</td>\n",
       "    </tr>\n",
       "    <tr>\n",
       "      <th>25%</th>\n",
       "      <td>0.000000</td>\n",
       "      <td>1.0</td>\n",
       "      <td>2.800000</td>\n",
       "      <td>1.600000</td>\n",
       "      <td>0.300000</td>\n",
       "      <td>0.000000</td>\n",
       "      <td>0.000000</td>\n",
       "    </tr>\n",
       "    <tr>\n",
       "      <th>50%</th>\n",
       "      <td>1.000000</td>\n",
       "      <td>1.0</td>\n",
       "      <td>3.000000</td>\n",
       "      <td>4.350000</td>\n",
       "      <td>1.300000</td>\n",
       "      <td>0.000000</td>\n",
       "      <td>0.000000</td>\n",
       "    </tr>\n",
       "    <tr>\n",
       "      <th>75%</th>\n",
       "      <td>1.000000</td>\n",
       "      <td>1.0</td>\n",
       "      <td>3.300000</td>\n",
       "      <td>5.100000</td>\n",
       "      <td>1.800000</td>\n",
       "      <td>1.000000</td>\n",
       "      <td>1.000000</td>\n",
       "    </tr>\n",
       "    <tr>\n",
       "      <th>max</th>\n",
       "      <td>1.000000</td>\n",
       "      <td>1.0</td>\n",
       "      <td>4.400000</td>\n",
       "      <td>6.900000</td>\n",
       "      <td>2.500000</td>\n",
       "      <td>1.000000</td>\n",
       "      <td>1.000000</td>\n",
       "    </tr>\n",
       "  </tbody>\n",
       "</table>\n",
       "</div>"
      ],
      "text/plain": [
       "         S_Length  Intercept     S_Width    P_Length     P_Width  \\\n",
       "count  150.000000      150.0  150.000000  150.000000  150.000000   \n",
       "mean     0.513333        1.0    3.054000    3.758667    1.198667   \n",
       "std      0.501497        0.0    0.433594    1.764420    0.763161   \n",
       "min      0.000000        1.0    2.000000    1.000000    0.100000   \n",
       "25%      0.000000        1.0    2.800000    1.600000    0.300000   \n",
       "50%      1.000000        1.0    3.000000    4.350000    1.300000   \n",
       "75%      1.000000        1.0    3.300000    5.100000    1.800000   \n",
       "max      1.000000        1.0    4.400000    6.900000    2.500000   \n",
       "\n",
       "       Species_setosa  Species_versicolor  \n",
       "count      150.000000          150.000000  \n",
       "mean         0.333333            0.333333  \n",
       "std          0.472984            0.472984  \n",
       "min          0.000000            0.000000  \n",
       "25%          0.000000            0.000000  \n",
       "50%          0.000000            0.000000  \n",
       "75%          1.000000            1.000000  \n",
       "max          1.000000            1.000000  "
      ]
     },
     "execution_count": 8,
     "metadata": {},
     "output_type": "execute_result"
    }
   ],
   "source": [
    "###################################\n",
    "## import and clean iris dataset ##\n",
    "###################################\n",
    "iris = datasets.load_iris()\n",
    "LR_df = pd.DataFrame()\n",
    "LR_df['S_Length'] = iris['data'][:,0]\n",
    "LR_df['Intercept']=np.full(iris['data'].shape[0], 1)\n",
    "LR_df['S_Width'] = iris['data'][:,1]\n",
    "LR_df['P_Length'] = iris['data'][:,2]\n",
    "LR_df['P_Width'] = iris['data'][:,3]\n",
    "LR_df['Species'] = iris['target']\n",
    "LR_df['Species'] = LR_df['Species'].apply(str)\n",
    "LR_df.loc[LR_df['Species']==str(0), \"Species\"] = str(iris['target_names'][0])\n",
    "LR_df.loc[LR_df['Species']==str(1), \"Species\"] = str(iris['target_names'][1])\n",
    "LR_df.loc[LR_df['Species']==str(2), \"Species\"] = str(iris['target_names'][2])\n",
    "LR_df['Species_setosa']=0\n",
    "LR_df.loc[LR_df['Species']=='setosa', 'Species_setosa']=1\n",
    "LR_df['Species_versicolor']=0\n",
    "LR_df.loc[LR_df['Species']=='versicolor', 'Species_versicolor']=1\n",
    "LR_df.loc[LR_df['S_Length']<5.8, 'S_Length'] = 0\n",
    "LR_df.loc[LR_df['S_Length']>=5.8, 'S_Length'] = 1\n",
    "LR_df = LR_df.drop('Species', axis=1)\n",
    "LR_df.describe()"
   ]
  },
  {
   "cell_type": "code",
   "execution_count": 9,
   "metadata": {},
   "outputs": [],
   "source": [
    "#######################################\n",
    "## creat arrays for Gradient Descent ##\n",
    "#######################################\n",
    "Y = np.array(LR_df['S_Length']).reshape((len(LR_df['S_Length']), 1))\n",
    "X = np.array(LR_df[['Intercept', 'S_Width', 'P_Length', 'P_Width', 'Species_setosa', 'Species_versicolor']])"
   ]
  },
  {
   "cell_type": "markdown",
   "metadata": {},
   "source": [
    "## 3) Compute Solution"
   ]
  },
  {
   "cell_type": "code",
   "execution_count": 6,
   "metadata": {},
   "outputs": [],
   "source": [
    "#################################\n",
    "## initialize parameter matrix ##\n",
    "#################################\n",
    "k = X.shape[1]\n",
    "np.random.seed(10815657)\n",
    "nudge=0.1\n",
    "Beta = np.random.uniform(low=-1*nudge, high=1*nudge, size=k).reshape(k, 1)\n",
    "Z = np.dot(X, Beta)\n",
    "A = 1 / (1+np.exp(-Z))"
   ]
  },
  {
   "cell_type": "code",
   "execution_count": 14,
   "metadata": {},
   "outputs": [],
   "source": [
    "######################\n",
    "## Gradient Descent ##\n",
    "######################\n",
    "m = 200000\n",
    "alpha = 0.001\n",
    "J = pd.DataFrame()\n",
    "J['iterative_step'] = range(0,m+1)\n",
    "J['cost'] = np.full(m+1, None)\n",
    "J.loc[0, 'cost'] = np.asscalar(-np.dot(Y.T, np.log(A)) -np.dot((1-Y.T), np.log(1-A)))                             \n",
    "\n",
    "for i in range(1, m+1):    \n",
    "    J_partial_Beta = np.dot(X.T, (A-Y))\n",
    "    Beta = Beta - (alpha*J_partial_Beta)\n",
    "    Z = np.dot(X, Beta)\n",
    "    A = 1 / (1+np.exp(-Z))\n",
    "    J.loc[i, 'cost'] = np.asscalar(-np.dot(Y.T, np.log(A)) -np.dot((1-Y.T), np.log(1-A))) \n",
    "    del J_partial_Beta   "
   ]
  },
  {
   "cell_type": "code",
   "execution_count": 15,
   "metadata": {},
   "outputs": [
    {
     "data": {
      "text/plain": [
       "array([[-21.66967379],\n",
       "       [  1.82896837],\n",
       "       [  4.74015182],\n",
       "       [ -2.69577906],\n",
       "       [  4.71105641],\n",
       "       [  0.35549604]])"
      ]
     },
     "execution_count": 15,
     "metadata": {},
     "output_type": "execute_result"
    },
    {
     "data": {
      "image/png": "[encoded data removed]",
      "text/plain": [
       "<Figure size 432x288 with 1 Axes>"
      ]
     },
     "metadata": {},
     "output_type": "display_data"
    }
   ],
   "source": [
    "plt.plot(J['iterative_step'], J['cost'])\n",
    "plt.title('Gradient Descent') \n",
    "plt.xlabel('Iterative Step') \n",
    "plt.ylabel('Cost') \n",
    "Beta"
   ]
  },
  {
   "cell_type": "code",
   "execution_count": 16,
   "metadata": {},
   "outputs": [
    {
     "name": "stdout",
     "output_type": "stream",
     "text": [
      "[[-21.66967379]\n",
      " [  1.82896837]\n",
      " [  4.74015182]\n",
      " [ -2.69577906]\n",
      " [  4.71105641]\n",
      " [  0.35549604]]\n"
     ]
    }
   ],
   "source": [
    "print(Beta)"
   ]
  },
  {
   "cell_type": "markdown",
   "metadata": {},
   "source": [
    "Let's compare this solution to that provided by the Logistic model provided in the \"statsmodels\" package"
   ]
  },
  {
   "cell_type": "code",
   "execution_count": 17,
   "metadata": {},
   "outputs": [
    {
     "name": "stdout",
     "output_type": "stream",
     "text": [
      "Intercept            -21.691740\n",
      "S_Width                1.828247\n",
      "P_Length               4.744541\n",
      "P_Width               -2.694876\n",
      "Species_setosa         4.728879\n",
      "Species_versicolor     0.359710\n",
      "dtype: float64\n"
     ]
    }
   ],
   "source": [
    "## built in package\n",
    "results = sm.glm(formula=\"S_Length ~ S_Width + P_Length + P_Width + Species_setosa + Species_versicolor\", data=LR_df, family=Binomial()).fit()\n",
    "print(results.params)"
   ]
  },
  {
   "cell_type": "code",
   "execution_count": null,
   "metadata": {},
   "outputs": [],
   "source": []
  }
 ],
 "metadata": {
  "kernelspec": {
   "display_name": "Python 3",
   "language": "python",
   "name": "python3"
  },
  "language_info": {
   "codemirror_mode": {
    "name": "ipython",
    "version": 3
   },
   "file_extension": ".py",
   "mimetype": "text/x-python",
   "name": "python",
   "nbconvert_exporter": "python",
   "pygments_lexer": "ipython3",
   "version": "3.5.5"
  }
 },
 "nbformat": 4,
 "nbformat_minor": 2
}
